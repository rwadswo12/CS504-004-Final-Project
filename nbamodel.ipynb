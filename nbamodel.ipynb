{
 "cells": [
  {
   "cell_type": "markdown",
   "id": "41fc0369-e2c6-4adc-a90c-f4b91918bd1b",
   "metadata": {},
   "source": [
    "# Imports modules"
   ]
  },
  {
   "cell_type": "code",
   "execution_count": 57,
   "id": "b3b0f534-beac-4a38-acc5-b80c5dab2c6b",
   "metadata": {},
   "outputs": [],
   "source": [
    "import numpy as np\n",
    "import pandas as pd\n",
    "import matplotlib.pyplot as plt\n",
    "import seaborn as sns\n",
    "import sklearn\n",
    "import statsmodels.api as sm\n",
    "\n",
    "from sklearn.model_selection import train_test_split\n",
    "from sklearn.ensemble import RandomForestClassifier\n",
    "from sklearn import metrics\n",
    "from sklearn.metrics import accuracy_score, confusion_matrix, classification_report\n",
    "from sklearn.linear_model import LogisticRegression\n"
   ]
  },
  {
   "cell_type": "markdown",
   "id": "59e17474-b6eb-4472-9449-bd60e92df71a",
   "metadata": {},
   "source": [
    "## Imports data and formats columns"
   ]
  },
  {
   "cell_type": "code",
   "execution_count": 16,
   "id": "494147d0-0d3c-4ac9-b7e6-cb684377445a",
   "metadata": {},
   "outputs": [
    {
     "name": "stdout",
     "output_type": "stream",
     "text": [
      "<class 'pandas.core.frame.DataFrame'>\n",
      "RangeIndex: 772 entries, 0 to 771\n",
      "Data columns (total 27 columns):\n",
      " #   Column     Non-Null Count  Dtype  \n",
      "---  ------     --------------  -----  \n",
      " 0   Season     772 non-null    object \n",
      " 1   Team       772 non-null    object \n",
      " 2   Champion?  742 non-null    float64\n",
      " 3   GP         772 non-null    int64  \n",
      " 4   WIN %      772 non-null    float64\n",
      " 5   MIN        772 non-null    float64\n",
      " 6   PTS        772 non-null    float64\n",
      " 7   FGM        772 non-null    float64\n",
      " 8   FGA        772 non-null    float64\n",
      " 9   FG%        772 non-null    float64\n",
      " 10  3PM        772 non-null    float64\n",
      " 11  3PA        772 non-null    float64\n",
      " 12  3P%        772 non-null    float64\n",
      " 13  FTM        772 non-null    float64\n",
      " 14  FTA        772 non-null    float64\n",
      " 15  FT%        772 non-null    float64\n",
      " 16  OREB       772 non-null    float64\n",
      " 17  DREB       772 non-null    float64\n",
      " 18  REDB       772 non-null    float64\n",
      " 19  AST        772 non-null    float64\n",
      " 20  TOV        772 non-null    float64\n",
      " 21  STL        772 non-null    float64\n",
      " 22  BLK        772 non-null    float64\n",
      " 23  BLKA       772 non-null    float64\n",
      " 24  PF         772 non-null    float64\n",
      " 25  PFD        772 non-null    float64\n",
      " 26  Salary     772 non-null    int64  \n",
      "dtypes: float64(23), int64(2), object(2)\n",
      "memory usage: 163.0+ KB\n",
      "None\n",
      "\n",
      "\n",
      "Columns in datatable:\n",
      "\n",
      "Index(['Season', 'Team', 'Champion?', 'GP', 'WIN %', 'MIN', 'PTS', 'FGM',\n",
      "       'FGA', 'FG%', '3PM', '3PA', '3P%', 'FTM', 'FTA', 'FT%', 'OREB', 'DREB',\n",
      "       'REDB', 'AST', 'TOV', 'STL', 'BLK', 'BLKA', 'PF', 'PFD', 'Salary'],\n",
      "      dtype='object')\n",
      "\n",
      "Values in datatable:\n",
      "\n",
      "\n",
      "[['2022' 'Atlanta Hawks' nan ... 17.7 19.8 136648361]\n",
      " ['2021' 'Atlanta Hawks' 0.0 ... 19.3 19.8 118804016]\n",
      " ['2020' 'Atlanta Hawks' 0.0 ... 23.1 21.0 85600106]\n",
      " ...\n",
      " ['1999' 'Washington Wizards' 0.0 ... 23.0 0.1 34018500]\n",
      " ['1998' 'Washington Wizards' 0.0 ... 22.4 0.2 40718075]\n",
      " ['1997' 'Washington Wizards' 0.0 ... 22.1 0.2 34940000]]\n"
     ]
    }
   ],
   "source": [
    "nbafull = pd.read_csv(\"https://raw.githubusercontent.com/rwadswo12/Sample-Project-CS504/main/Cleaned%20NBA%20Stats%20Balanced.csv\") #full dataset in datatable\n",
    "nbafull = nbafull.astype({\"Season\": str}) #Changing column type. use this line to change additional columns to other types.\n",
    "\n",
    "nbaap = nbafull.drop(['W' , 'L' , '+/-'], axis = 1) #datatable with only averages and percentages.\n",
    "\n",
    "print(nbaap.info())\n",
    "print()\n",
    "print()\n",
    "print('Columns in datatable:')\n",
    "print()\n",
    "print(nbaap.columns)\n",
    "print()\n",
    "print('Values in datatable:')\n",
    "print()\n",
    "print()\n",
    "print(nbaap.values)"
   ]
  },
  {
   "cell_type": "markdown",
   "id": "5ecec879-2a74-43d6-ba04-3fc3b2eacf1a",
   "metadata": {},
   "source": [
    "### Filters data"
   ]
  },
  {
   "cell_type": "code",
   "execution_count": 17,
   "id": "8d5c0ed9-0f99-4918-b407-d00350b3cdd1",
   "metadata": {},
   "outputs": [],
   "source": [
    "nba22 = nbaap[nbaap[\"Season\"] == \"2022\"] #filters by year\n",
    "nba20 = nbaap[nbaap[\"Season\"] == \"2020\"]\n",
    "nba18 = nbaap[nbaap[\"Season\"] == \"2018\"]\n",
    "nba17 = nbaap[nbaap[\"Season\"] == \"2017\"]\n",
    "nba16 = nbaap[nbaap[\"Season\"] == \"2016\"]\n",
    "nba15 = nbaap[nbaap[\"Season\"] == \"2015\"]\n",
    "nba14 = nbaap[nbaap[\"Season\"] == \"2014\"]\n",
    "nba13 = nbaap[nbaap[\"Season\"] == \"2013\"]\n",
    "nba12 = nbaap[nbaap[\"Season\"] == \"2012\"]\n",
    "nba11 = nbaap[nbaap[\"Season\"] == \"2011\"]\n",
    "nba10 = nbaap[nbaap[\"Season\"] == \"2010\"]\n",
    "nba09 = nbaap[nbaap[\"Season\"] == \"2009\"]\n",
    "nba08 = nbaap[nbaap[\"Season\"] == \"2008\"]\n",
    "nba07 = nbaap[nbaap[\"Season\"] == \"2007\"]\n",
    "nba06 = nbaap[nbaap[\"Season\"] == \"2006\"]\n",
    "nba05 = nbaap[nbaap[\"Season\"] == \"2005\"]\n",
    "nba04 = nbaap[nbaap[\"Season\"] == \"2004\"]\n",
    "nba03 = nbaap[nbaap[\"Season\"] == \"2003\"]\n",
    "nba02 = nbaap[nbaap[\"Season\"] == \"2002\"]\n",
    "nba01 = nbaap[nbaap[\"Season\"] == \"2001\"]\n",
    "nba00 = nbaap[nbaap[\"Season\"] == \"2000\"]\n",
    "nba99 = nbaap[nbaap[\"Season\"] == \"1999\"]\n",
    "nba98 = nbaap[nbaap[\"Season\"] == \"1998\"]\n",
    "nba97 = nbaap[nbaap[\"Season\"] == \"1997\"]\n",
    "\n",
    "nbahawks = nbaap[nbaap[\"Team\"] == \"Atlanta Hawks\"] #Filters by team. These filters may not be needed but they are available. We can delete after \n",
    "nbaceltics = nbaap[nbaap[\"Team\"] == \"Boston Celtics\"]\n",
    "nbanets = nbaap[nbaap[\"Team\"] == \"Brooklyn Nets\"]\n",
    "nbahornets = nbaap[nbaap[\"Team\"] == \"Charlotte Hornets\"]\n",
    "nbabulls = nbaap[nbaap[\"Team\"] == \"Chicago Bulls\"]\n",
    "nbacavs = nbaap[nbaap[\"Team\"] == \"Cleveland Cavaliers\"]\n",
    "nbamavs = nbaap[nbaap[\"Team\"] == \"Dallas Mavericks\"]\n",
    "nbanuggs = nbaap[nbaap[\"Team\"] == \"Denver Nuggets\"]\n",
    "nbapistons = nbaap[nbaap[\"Team\"] == \"Detroit Pistons\"]\n",
    "nbagsw = nbaap[nbaap[\"Team\"] == \"Golden State Warriors\"]\n",
    "nbarockets = nbaap[nbaap[\"Team\"] == \"Houston Rockets\"]\n",
    "nbapacers = nbaap[nbaap[\"Team\"] == \"Indiana Pacers\"]\n",
    "nbaclippers = nbaap[nbaap[\"Team\"] == \"Los Angeles Clippers\"]\n",
    "nbalakers = nbaap[nbaap[\"Team\"] == \"Los Angeles Lakers\"]\n",
    "nbagrizz = nbaap[nbaap[\"Team\"] == \"Memphis Grizzlies\"]\n",
    "nbaheat = nbaap[nbaap[\"Team\"] == \"Miami Heat\"]\n",
    "nbabucks = nbaap[nbaap[\"Team\"] == \"Milwaukee Bucks\"]\n",
    "nbawolves = nbaap[nbaap[\"Team\"] == \"Minnesota Timberwolves\"]\n",
    "nbapelicans = nbaap[nbaap[\"Team\"] == \"New Orleans Pelicans\"]\n",
    "nbaknicks = nbaap[nbaap[\"Team\"] == \"New York Knicks\"]\n",
    "nbaokc = nbaap[nbaap[\"Team\"] == \"Oklahoma City Thunder\"]\n",
    "nbamagic = nbaap[nbaap[\"Team\"] == \"Orlando Magic\"]\n",
    "nba76ers = nbaap[nbaap[\"Team\"] == \"Philadelphia 76ers\"]\n",
    "nbasuns = nbaap[nbaap[\"Team\"] == \"Phoenix Suns\"]\n",
    "nbablazers = nbaap[nbaap[\"Team\"] == \"Portland Trail Blazers\"]\n",
    "nbakings = nbaap[nbaap[\"Team\"] == \"Sacramento Kings\"]\n",
    "nbaspurs = nbaap[nbaap[\"Team\"] == \"San Antonio Spurs\"]\n",
    "nbaraptors = nbaap[nbaap[\"Team\"] == \"Toronto Raptors\"]\n",
    "nbajazz = nbaap[nbaap[\"Team\"] == \"Utah Jazz\"]\n",
    "nbawizards = nbaap[nbaap[\"Team\"] == \"Washington Wizards\"]"
   ]
  },
  {
   "cell_type": "markdown",
   "id": "9ea19323",
   "metadata": {},
   "source": [
    "## Natasha's Section"
   ]
  },
  {
   "cell_type": "markdown",
   "id": "dce068bd",
   "metadata": {},
   "source": [
    "## Generate correlation coefficient for all independent variables and apply heatmap"
   ]
  },
  {
   "cell_type": "code",
   "execution_count": 18,
   "id": "9ef12f79-def4-49ab-9cfd-9a2405ffa4c6",
   "metadata": {},
   "outputs": [
    {
     "data": {
      "text/html": [
       "<div>\n",
       "<style scoped>\n",
       "    .dataframe tbody tr th:only-of-type {\n",
       "        vertical-align: middle;\n",
       "    }\n",
       "\n",
       "    .dataframe tbody tr th {\n",
       "        vertical-align: top;\n",
       "    }\n",
       "\n",
       "    .dataframe thead th {\n",
       "        text-align: right;\n",
       "    }\n",
       "</style>\n",
       "<table border=\"1\" class=\"dataframe\">\n",
       "  <thead>\n",
       "    <tr style=\"text-align: right;\">\n",
       "      <th></th>\n",
       "      <th>WIN %</th>\n",
       "      <th>MIN</th>\n",
       "      <th>PTS</th>\n",
       "      <th>FGM</th>\n",
       "      <th>FGA</th>\n",
       "      <th>FG%</th>\n",
       "      <th>3PM</th>\n",
       "      <th>3PA</th>\n",
       "      <th>3P%</th>\n",
       "      <th>FTM</th>\n",
       "      <th>...</th>\n",
       "      <th>DREB</th>\n",
       "      <th>REDB</th>\n",
       "      <th>AST</th>\n",
       "      <th>TOV</th>\n",
       "      <th>STL</th>\n",
       "      <th>BLK</th>\n",
       "      <th>BLKA</th>\n",
       "      <th>PF</th>\n",
       "      <th>PFD</th>\n",
       "      <th>Salary</th>\n",
       "    </tr>\n",
       "  </thead>\n",
       "  <tbody>\n",
       "    <tr>\n",
       "      <th>WIN %</th>\n",
       "      <td>1.000000</td>\n",
       "      <td>-0.026034</td>\n",
       "      <td>0.289581</td>\n",
       "      <td>0.250691</td>\n",
       "      <td>-0.090387</td>\n",
       "      <td>0.582701</td>\n",
       "      <td>0.176304</td>\n",
       "      <td>0.112094</td>\n",
       "      <td>0.457423</td>\n",
       "      <td>0.165044</td>\n",
       "      <td>...</td>\n",
       "      <td>0.310066</td>\n",
       "      <td>0.236163</td>\n",
       "      <td>0.331097</td>\n",
       "      <td>-0.341511</td>\n",
       "      <td>0.112173</td>\n",
       "      <td>0.220855</td>\n",
       "      <td>-0.479856</td>\n",
       "      <td>-0.202332</td>\n",
       "      <td>0.009090</td>\n",
       "      <td>0.130159</td>\n",
       "    </tr>\n",
       "    <tr>\n",
       "      <th>MIN</th>\n",
       "      <td>-0.026034</td>\n",
       "      <td>1.000000</td>\n",
       "      <td>-0.080117</td>\n",
       "      <td>-0.072732</td>\n",
       "      <td>-0.060990</td>\n",
       "      <td>-0.047231</td>\n",
       "      <td>-0.099236</td>\n",
       "      <td>-0.095068</td>\n",
       "      <td>-0.025175</td>\n",
       "      <td>0.037653</td>\n",
       "      <td>...</td>\n",
       "      <td>-0.044376</td>\n",
       "      <td>-0.043579</td>\n",
       "      <td>-0.070342</td>\n",
       "      <td>0.058060</td>\n",
       "      <td>-0.048488</td>\n",
       "      <td>-0.006800</td>\n",
       "      <td>0.000426</td>\n",
       "      <td>0.062687</td>\n",
       "      <td>0.003883</td>\n",
       "      <td>-0.072768</td>\n",
       "    </tr>\n",
       "    <tr>\n",
       "      <th>PTS</th>\n",
       "      <td>0.289581</td>\n",
       "      <td>-0.080117</td>\n",
       "      <td>1.000000</td>\n",
       "      <td>0.938501</td>\n",
       "      <td>0.783526</td>\n",
       "      <td>0.615023</td>\n",
       "      <td>0.830700</td>\n",
       "      <td>0.812643</td>\n",
       "      <td>0.381980</td>\n",
       "      <td>0.052555</td>\n",
       "      <td>...</td>\n",
       "      <td>0.741626</td>\n",
       "      <td>0.548620</td>\n",
       "      <td>0.635549</td>\n",
       "      <td>-0.273494</td>\n",
       "      <td>0.033666</td>\n",
       "      <td>0.023756</td>\n",
       "      <td>-0.169662</td>\n",
       "      <td>-0.250987</td>\n",
       "      <td>0.515858</td>\n",
       "      <td>0.730817</td>\n",
       "    </tr>\n",
       "    <tr>\n",
       "      <th>FGM</th>\n",
       "      <td>0.250691</td>\n",
       "      <td>-0.072732</td>\n",
       "      <td>0.938501</td>\n",
       "      <td>1.000000</td>\n",
       "      <td>0.839821</td>\n",
       "      <td>0.648597</td>\n",
       "      <td>0.718193</td>\n",
       "      <td>0.699381</td>\n",
       "      <td>0.344743</td>\n",
       "      <td>-0.166613</td>\n",
       "      <td>...</td>\n",
       "      <td>0.712068</td>\n",
       "      <td>0.558555</td>\n",
       "      <td>0.700225</td>\n",
       "      <td>-0.304522</td>\n",
       "      <td>0.048615</td>\n",
       "      <td>0.049498</td>\n",
       "      <td>-0.173126</td>\n",
       "      <td>-0.293259</td>\n",
       "      <td>0.476670</td>\n",
       "      <td>0.687690</td>\n",
       "    </tr>\n",
       "    <tr>\n",
       "      <th>FGA</th>\n",
       "      <td>-0.090387</td>\n",
       "      <td>-0.060990</td>\n",
       "      <td>0.783526</td>\n",
       "      <td>0.839821</td>\n",
       "      <td>1.000000</td>\n",
       "      <td>0.132773</td>\n",
       "      <td>0.692662</td>\n",
       "      <td>0.718746</td>\n",
       "      <td>0.041815</td>\n",
       "      <td>-0.291571</td>\n",
       "      <td>...</td>\n",
       "      <td>0.660197</td>\n",
       "      <td>0.656615</td>\n",
       "      <td>0.519196</td>\n",
       "      <td>-0.252928</td>\n",
       "      <td>0.082341</td>\n",
       "      <td>-0.010126</td>\n",
       "      <td>0.089216</td>\n",
       "      <td>-0.240329</td>\n",
       "      <td>0.379171</td>\n",
       "      <td>0.631410</td>\n",
       "    </tr>\n",
       "  </tbody>\n",
       "</table>\n",
       "<p>5 rows × 23 columns</p>\n",
       "</div>"
      ],
      "text/plain": [
       "          WIN %       MIN       PTS       FGM       FGA       FG%       3PM  \\\n",
       "WIN %  1.000000 -0.026034  0.289581  0.250691 -0.090387  0.582701  0.176304   \n",
       "MIN   -0.026034  1.000000 -0.080117 -0.072732 -0.060990 -0.047231 -0.099236   \n",
       "PTS    0.289581 -0.080117  1.000000  0.938501  0.783526  0.615023  0.830700   \n",
       "FGM    0.250691 -0.072732  0.938501  1.000000  0.839821  0.648597  0.718193   \n",
       "FGA   -0.090387 -0.060990  0.783526  0.839821  1.000000  0.132773  0.692662   \n",
       "\n",
       "            3PA       3P%       FTM  ...      DREB      REDB       AST  \\\n",
       "WIN %  0.112094  0.457423  0.165044  ...  0.310066  0.236163  0.331097   \n",
       "MIN   -0.095068 -0.025175  0.037653  ... -0.044376 -0.043579 -0.070342   \n",
       "PTS    0.812643  0.381980  0.052555  ...  0.741626  0.548620  0.635549   \n",
       "FGM    0.699381  0.344743 -0.166613  ...  0.712068  0.558555  0.700225   \n",
       "FGA    0.718746  0.041815 -0.291571  ...  0.660197  0.656615  0.519196   \n",
       "\n",
       "            TOV       STL       BLK      BLKA        PF       PFD    Salary  \n",
       "WIN % -0.341511  0.112173  0.220855 -0.479856 -0.202332  0.009090  0.130159  \n",
       "MIN    0.058060 -0.048488 -0.006800  0.000426  0.062687  0.003883 -0.072768  \n",
       "PTS   -0.273494  0.033666  0.023756 -0.169662 -0.250987  0.515858  0.730817  \n",
       "FGM   -0.304522  0.048615  0.049498 -0.173126 -0.293259  0.476670  0.687690  \n",
       "FGA   -0.252928  0.082341 -0.010126  0.089216 -0.240329  0.379171  0.631410  \n",
       "\n",
       "[5 rows x 23 columns]"
      ]
     },
     "execution_count": 18,
     "metadata": {},
     "output_type": "execute_result"
    }
   ],
   "source": [
    "nbawo2022 = nbaap[nbaap['Season'] != '2022'] ## Remove current season stats\n",
    "var = nbawo2022.drop(nbawo2022.columns[[0, 1, 2, 3]], axis=1) ## Dataset of independent variables. Dropped Season, Team, Games Played, and Champion\n",
    "\n",
    "## Dataframe for correlation coefficient\n",
    "corr=var.corr()\n",
    "corr.head()"
   ]
  },
  {
   "cell_type": "code",
   "execution_count": 19,
   "id": "513cb911",
   "metadata": {},
   "outputs": [
    {
     "data": {
      "text/plain": [
       "<AxesSubplot:>"
      ]
     },
     "execution_count": 19,
     "metadata": {},
     "output_type": "execute_result"
    },
    {
     "data": {
      "image/png": "[encoded data removed]",
      "text/plain": [
       "<Figure size 432x288 with 2 Axes>"
      ]
     },
     "metadata": {
      "needs_background": "light"
     },
     "output_type": "display_data"
    }
   ],
   "source": [
    "## Heatmap of correlation coefficient\n",
    "sns.heatmap(corr)"
   ]
  },
  {
   "cell_type": "markdown",
   "id": "1e2422f2",
   "metadata": {},
   "source": [
    "## Removed one of two features that have a correlation higher than 0.9. I've read it can be between .85-.9 and can be adjusted\n"
   ]
  },
  {
   "cell_type": "code",
   "execution_count": 20,
   "id": "21be644c",
   "metadata": {},
   "outputs": [
    {
     "data": {
      "text/plain": [
       "(20,)"
      ]
     },
     "execution_count": 20,
     "metadata": {},
     "output_type": "execute_result"
    }
   ],
   "source": [
    "columns = np.full((corr.shape[0],), True, dtype=bool)\n",
    "for i in range(corr.shape[0]):\n",
    "    for j in range(i+1, corr.shape[0]):\n",
    "        if corr.iloc[i,j] >= 0.9:\n",
    "            if columns[j]:\n",
    "                columns[j] = False\n",
    "                \n",
    "selected_columns = var.columns[columns]\n",
    "selected_columns.shape                "
   ]
  },
  {
   "cell_type": "code",
   "execution_count": 21,
   "id": "b7f5879f",
   "metadata": {},
   "outputs": [
    {
     "data": {
      "text/html": [
       "<div>\n",
       "<style scoped>\n",
       "    .dataframe tbody tr th:only-of-type {\n",
       "        vertical-align: middle;\n",
       "    }\n",
       "\n",
       "    .dataframe tbody tr th {\n",
       "        vertical-align: top;\n",
       "    }\n",
       "\n",
       "    .dataframe thead th {\n",
       "        text-align: right;\n",
       "    }\n",
       "</style>\n",
       "<table border=\"1\" class=\"dataframe\">\n",
       "  <thead>\n",
       "    <tr style=\"text-align: right;\">\n",
       "      <th></th>\n",
       "      <th>WIN %</th>\n",
       "      <th>MIN</th>\n",
       "      <th>PTS</th>\n",
       "      <th>FGA</th>\n",
       "      <th>FG%</th>\n",
       "      <th>3PM</th>\n",
       "      <th>3P%</th>\n",
       "      <th>FTM</th>\n",
       "      <th>FT%</th>\n",
       "      <th>OREB</th>\n",
       "      <th>DREB</th>\n",
       "      <th>REDB</th>\n",
       "      <th>AST</th>\n",
       "      <th>TOV</th>\n",
       "      <th>STL</th>\n",
       "      <th>BLK</th>\n",
       "      <th>BLKA</th>\n",
       "      <th>PF</th>\n",
       "      <th>PFD</th>\n",
       "      <th>Salary</th>\n",
       "    </tr>\n",
       "  </thead>\n",
       "  <tbody>\n",
       "    <tr>\n",
       "      <th>1</th>\n",
       "      <td>0.569</td>\n",
       "      <td>48.3</td>\n",
       "      <td>113.7</td>\n",
       "      <td>87.2</td>\n",
       "      <td>46.8</td>\n",
       "      <td>12.4</td>\n",
       "      <td>37.3</td>\n",
       "      <td>19.7</td>\n",
       "      <td>81.2</td>\n",
       "      <td>10.6</td>\n",
       "      <td>35.1</td>\n",
       "      <td>45.6</td>\n",
       "      <td>24.1</td>\n",
       "      <td>13.2</td>\n",
       "      <td>7.0</td>\n",
       "      <td>4.8</td>\n",
       "      <td>5.0</td>\n",
       "      <td>19.3</td>\n",
       "      <td>19.8</td>\n",
       "      <td>118804016</td>\n",
       "    </tr>\n",
       "    <tr>\n",
       "      <th>2</th>\n",
       "      <td>0.299</td>\n",
       "      <td>48.6</td>\n",
       "      <td>111.8</td>\n",
       "      <td>90.6</td>\n",
       "      <td>44.9</td>\n",
       "      <td>12.0</td>\n",
       "      <td>33.3</td>\n",
       "      <td>18.5</td>\n",
       "      <td>79.0</td>\n",
       "      <td>9.9</td>\n",
       "      <td>33.4</td>\n",
       "      <td>43.3</td>\n",
       "      <td>24.0</td>\n",
       "      <td>16.2</td>\n",
       "      <td>7.8</td>\n",
       "      <td>5.1</td>\n",
       "      <td>6.4</td>\n",
       "      <td>23.1</td>\n",
       "      <td>21.0</td>\n",
       "      <td>85600106</td>\n",
       "    </tr>\n",
       "    <tr>\n",
       "      <th>3</th>\n",
       "      <td>0.354</td>\n",
       "      <td>48.4</td>\n",
       "      <td>113.3</td>\n",
       "      <td>91.8</td>\n",
       "      <td>45.1</td>\n",
       "      <td>13.0</td>\n",
       "      <td>35.2</td>\n",
       "      <td>17.6</td>\n",
       "      <td>75.2</td>\n",
       "      <td>11.6</td>\n",
       "      <td>34.5</td>\n",
       "      <td>46.1</td>\n",
       "      <td>25.8</td>\n",
       "      <td>17.0</td>\n",
       "      <td>8.2</td>\n",
       "      <td>5.1</td>\n",
       "      <td>5.5</td>\n",
       "      <td>23.6</td>\n",
       "      <td>22.2</td>\n",
       "      <td>79180081</td>\n",
       "    </tr>\n",
       "    <tr>\n",
       "      <th>4</th>\n",
       "      <td>0.354</td>\n",
       "      <td>48.4</td>\n",
       "      <td>113.3</td>\n",
       "      <td>91.8</td>\n",
       "      <td>45.1</td>\n",
       "      <td>13.0</td>\n",
       "      <td>35.2</td>\n",
       "      <td>17.6</td>\n",
       "      <td>75.2</td>\n",
       "      <td>11.6</td>\n",
       "      <td>34.5</td>\n",
       "      <td>46.1</td>\n",
       "      <td>25.8</td>\n",
       "      <td>17.0</td>\n",
       "      <td>8.2</td>\n",
       "      <td>5.1</td>\n",
       "      <td>5.5</td>\n",
       "      <td>23.6</td>\n",
       "      <td>22.2</td>\n",
       "      <td>99992696</td>\n",
       "    </tr>\n",
       "    <tr>\n",
       "      <th>5</th>\n",
       "      <td>0.524</td>\n",
       "      <td>48.5</td>\n",
       "      <td>103.2</td>\n",
       "      <td>84.4</td>\n",
       "      <td>45.1</td>\n",
       "      <td>8.9</td>\n",
       "      <td>34.1</td>\n",
       "      <td>18.1</td>\n",
       "      <td>72.8</td>\n",
       "      <td>10.3</td>\n",
       "      <td>34.1</td>\n",
       "      <td>44.3</td>\n",
       "      <td>23.6</td>\n",
       "      <td>15.8</td>\n",
       "      <td>8.2</td>\n",
       "      <td>4.8</td>\n",
       "      <td>5.2</td>\n",
       "      <td>18.2</td>\n",
       "      <td>21.6</td>\n",
       "      <td>96315163</td>\n",
       "    </tr>\n",
       "  </tbody>\n",
       "</table>\n",
       "</div>"
      ],
      "text/plain": [
       "   WIN %   MIN    PTS   FGA   FG%   3PM   3P%   FTM   FT%  OREB  DREB  REDB  \\\n",
       "1  0.569  48.3  113.7  87.2  46.8  12.4  37.3  19.7  81.2  10.6  35.1  45.6   \n",
       "2  0.299  48.6  111.8  90.6  44.9  12.0  33.3  18.5  79.0   9.9  33.4  43.3   \n",
       "3  0.354  48.4  113.3  91.8  45.1  13.0  35.2  17.6  75.2  11.6  34.5  46.1   \n",
       "4  0.354  48.4  113.3  91.8  45.1  13.0  35.2  17.6  75.2  11.6  34.5  46.1   \n",
       "5  0.524  48.5  103.2  84.4  45.1   8.9  34.1  18.1  72.8  10.3  34.1  44.3   \n",
       "\n",
       "    AST   TOV  STL  BLK  BLKA    PF   PFD     Salary  \n",
       "1  24.1  13.2  7.0  4.8   5.0  19.3  19.8  118804016  \n",
       "2  24.0  16.2  7.8  5.1   6.4  23.1  21.0   85600106  \n",
       "3  25.8  17.0  8.2  5.1   5.5  23.6  22.2   79180081  \n",
       "4  25.8  17.0  8.2  5.1   5.5  23.6  22.2   99992696  \n",
       "5  23.6  15.8  8.2  4.8   5.2  18.2  21.6   96315163  "
      ]
     },
     "execution_count": 21,
     "metadata": {},
     "output_type": "execute_result"
    }
   ],
   "source": [
    "## 20 features remaining after multicollinearity is addressed\n",
    "final = var[selected_columns]\n",
    "final.head()"
   ]
  },
  {
   "cell_type": "markdown",
   "id": "8a597dbc",
   "metadata": {},
   "source": [
    "## Looks at p value to further refine feature selection. Referenced here: https://towardsdatascience.com/feature-selection-correlation-and-p-value-da8921bfb3cf\n"
   ]
  },
  {
   "cell_type": "code",
   "execution_count": 22,
   "id": "53495231",
   "metadata": {},
   "outputs": [],
   "source": [
    "selected_columns = selected_columns[1:20].values\n",
    "\n",
    "import statsmodels.api as sm\n",
    "def backwardElimination(x, Y, sl, columns):\n",
    "    numVars = len(x[0])\n",
    "    for i in range(0, numVars):\n",
    "        regressor_OLS = sm.OLS(Y, x).fit()\n",
    "        maxVar = max(regressor_OLS.pvalues).astype(float)\n",
    "        if maxVar > sl:\n",
    "            for j in range(0, numVars - i):\n",
    "                if (regressor_OLS.pvalues[j].astype(float) == maxVar):\n",
    "                    x = np.delete(x, j, 1)\n",
    "                    columns = np.delete(columns, j)\n",
    "                    \n",
    "    regressor_OLS.summary()\n",
    "    return x, columns"
   ]
  },
  {
   "cell_type": "code",
   "execution_count": 23,
   "id": "2322e71b",
   "metadata": {},
   "outputs": [],
   "source": [
    "SL = 0.05\n",
    "data_modeled, selected_columns = backwardElimination(final.iloc[:,1:].values, final.iloc[:,0].values, SL, selected_columns)"
   ]
  },
  {
   "cell_type": "code",
   "execution_count": 24,
   "id": "58921472",
   "metadata": {},
   "outputs": [],
   "source": [
    "final = pd.DataFrame(data = data_modeled, columns = selected_columns)"
   ]
  },
  {
   "cell_type": "code",
   "execution_count": 25,
   "id": "8ba08458",
   "metadata": {},
   "outputs": [
    {
     "data": {
      "text/html": [
       "<div>\n",
       "<style scoped>\n",
       "    .dataframe tbody tr th:only-of-type {\n",
       "        vertical-align: middle;\n",
       "    }\n",
       "\n",
       "    .dataframe tbody tr th {\n",
       "        vertical-align: top;\n",
       "    }\n",
       "\n",
       "    .dataframe thead th {\n",
       "        text-align: right;\n",
       "    }\n",
       "</style>\n",
       "<table border=\"1\" class=\"dataframe\">\n",
       "  <thead>\n",
       "    <tr style=\"text-align: right;\">\n",
       "      <th></th>\n",
       "      <th>MIN</th>\n",
       "      <th>PTS</th>\n",
       "      <th>FGA</th>\n",
       "      <th>3P%</th>\n",
       "      <th>FTM</th>\n",
       "      <th>FT%</th>\n",
       "      <th>OREB</th>\n",
       "      <th>DREB</th>\n",
       "      <th>AST</th>\n",
       "      <th>TOV</th>\n",
       "      <th>STL</th>\n",
       "      <th>BLKA</th>\n",
       "      <th>PF</th>\n",
       "      <th>Salary</th>\n",
       "    </tr>\n",
       "  </thead>\n",
       "  <tbody>\n",
       "    <tr>\n",
       "      <th>0</th>\n",
       "      <td>48.3</td>\n",
       "      <td>113.7</td>\n",
       "      <td>87.2</td>\n",
       "      <td>37.3</td>\n",
       "      <td>19.7</td>\n",
       "      <td>81.2</td>\n",
       "      <td>10.6</td>\n",
       "      <td>35.1</td>\n",
       "      <td>24.1</td>\n",
       "      <td>13.2</td>\n",
       "      <td>7.0</td>\n",
       "      <td>5.0</td>\n",
       "      <td>19.3</td>\n",
       "      <td>118804016.0</td>\n",
       "    </tr>\n",
       "    <tr>\n",
       "      <th>1</th>\n",
       "      <td>48.6</td>\n",
       "      <td>111.8</td>\n",
       "      <td>90.6</td>\n",
       "      <td>33.3</td>\n",
       "      <td>18.5</td>\n",
       "      <td>79.0</td>\n",
       "      <td>9.9</td>\n",
       "      <td>33.4</td>\n",
       "      <td>24.0</td>\n",
       "      <td>16.2</td>\n",
       "      <td>7.8</td>\n",
       "      <td>6.4</td>\n",
       "      <td>23.1</td>\n",
       "      <td>85600106.0</td>\n",
       "    </tr>\n",
       "    <tr>\n",
       "      <th>2</th>\n",
       "      <td>48.4</td>\n",
       "      <td>113.3</td>\n",
       "      <td>91.8</td>\n",
       "      <td>35.2</td>\n",
       "      <td>17.6</td>\n",
       "      <td>75.2</td>\n",
       "      <td>11.6</td>\n",
       "      <td>34.5</td>\n",
       "      <td>25.8</td>\n",
       "      <td>17.0</td>\n",
       "      <td>8.2</td>\n",
       "      <td>5.5</td>\n",
       "      <td>23.6</td>\n",
       "      <td>79180081.0</td>\n",
       "    </tr>\n",
       "    <tr>\n",
       "      <th>3</th>\n",
       "      <td>48.4</td>\n",
       "      <td>113.3</td>\n",
       "      <td>91.8</td>\n",
       "      <td>35.2</td>\n",
       "      <td>17.6</td>\n",
       "      <td>75.2</td>\n",
       "      <td>11.6</td>\n",
       "      <td>34.5</td>\n",
       "      <td>25.8</td>\n",
       "      <td>17.0</td>\n",
       "      <td>8.2</td>\n",
       "      <td>5.5</td>\n",
       "      <td>23.6</td>\n",
       "      <td>99992696.0</td>\n",
       "    </tr>\n",
       "    <tr>\n",
       "      <th>4</th>\n",
       "      <td>48.5</td>\n",
       "      <td>103.2</td>\n",
       "      <td>84.4</td>\n",
       "      <td>34.1</td>\n",
       "      <td>18.1</td>\n",
       "      <td>72.8</td>\n",
       "      <td>10.3</td>\n",
       "      <td>34.1</td>\n",
       "      <td>23.6</td>\n",
       "      <td>15.8</td>\n",
       "      <td>8.2</td>\n",
       "      <td>5.2</td>\n",
       "      <td>18.2</td>\n",
       "      <td>96315163.0</td>\n",
       "    </tr>\n",
       "  </tbody>\n",
       "</table>\n",
       "</div>"
      ],
      "text/plain": [
       "    MIN    PTS   FGA   3P%   FTM   FT%  OREB  DREB   AST   TOV  STL  BLKA  \\\n",
       "0  48.3  113.7  87.2  37.3  19.7  81.2  10.6  35.1  24.1  13.2  7.0   5.0   \n",
       "1  48.6  111.8  90.6  33.3  18.5  79.0   9.9  33.4  24.0  16.2  7.8   6.4   \n",
       "2  48.4  113.3  91.8  35.2  17.6  75.2  11.6  34.5  25.8  17.0  8.2   5.5   \n",
       "3  48.4  113.3  91.8  35.2  17.6  75.2  11.6  34.5  25.8  17.0  8.2   5.5   \n",
       "4  48.5  103.2  84.4  34.1  18.1  72.8  10.3  34.1  23.6  15.8  8.2   5.2   \n",
       "\n",
       "     PF       Salary  \n",
       "0  19.3  118804016.0  \n",
       "1  23.1   85600106.0  \n",
       "2  23.6   79180081.0  \n",
       "3  23.6   99992696.0  \n",
       "4  18.2   96315163.0  "
      ]
     },
     "execution_count": 25,
     "metadata": {},
     "output_type": "execute_result"
    }
   ],
   "source": [
    "final.head()"
   ]
  },
  {
   "cell_type": "code",
   "execution_count": 26,
   "id": "f94e9853",
   "metadata": {},
   "outputs": [
    {
     "data": {
      "text/plain": [
       "(742, 14)"
      ]
     },
     "execution_count": 26,
     "metadata": {},
     "output_type": "execute_result"
    }
   ],
   "source": [
    "final.shape"
   ]
  },
  {
   "cell_type": "markdown",
   "id": "a412587a",
   "metadata": {},
   "source": [
    "## Dependent variable distribution for each independent variable"
   ]
  },
  {
   "cell_type": "code",
   "execution_count": 33,
   "id": "c761c695",
   "metadata": {},
   "outputs": [],
   "source": [
    "target = pd.DataFrame()\n",
    "target['Champion?'] = nbawo2022.iloc[:,2]\n",
    "target = target['Champion?'].apply(np.int64)\n"
   ]
  },
  {
   "cell_type": "code",
   "execution_count": 34,
   "id": "a9deee01",
   "metadata": {},
   "outputs": [
    {
     "ename": "KeyError",
     "evalue": "'Champion?'",
     "output_type": "error",
     "traceback": [
      "\u001b[1;31m---------------------------------------------------------------------------\u001b[0m",
      "\u001b[1;31mKeyError\u001b[0m                                  Traceback (most recent call last)",
      "\u001b[1;32m~\\anaconda3\\lib\\site-packages\\pandas\\core\\indexes\\base.py\u001b[0m in \u001b[0;36mget_loc\u001b[1;34m(self, key, method, tolerance)\u001b[0m\n\u001b[0;32m   3079\u001b[0m             \u001b[1;32mtry\u001b[0m\u001b[1;33m:\u001b[0m\u001b[1;33m\u001b[0m\u001b[1;33m\u001b[0m\u001b[0m\n\u001b[1;32m-> 3080\u001b[1;33m                 \u001b[1;32mreturn\u001b[0m \u001b[0mself\u001b[0m\u001b[1;33m.\u001b[0m\u001b[0m_engine\u001b[0m\u001b[1;33m.\u001b[0m\u001b[0mget_loc\u001b[0m\u001b[1;33m(\u001b[0m\u001b[0mcasted_key\u001b[0m\u001b[1;33m)\u001b[0m\u001b[1;33m\u001b[0m\u001b[1;33m\u001b[0m\u001b[0m\n\u001b[0m\u001b[0;32m   3081\u001b[0m             \u001b[1;32mexcept\u001b[0m \u001b[0mKeyError\u001b[0m \u001b[1;32mas\u001b[0m \u001b[0merr\u001b[0m\u001b[1;33m:\u001b[0m\u001b[1;33m\u001b[0m\u001b[1;33m\u001b[0m\u001b[0m\n",
      "\u001b[1;32mpandas\\_libs\\index.pyx\u001b[0m in \u001b[0;36mpandas._libs.index.IndexEngine.get_loc\u001b[1;34m()\u001b[0m\n",
      "\u001b[1;32mpandas\\_libs\\index.pyx\u001b[0m in \u001b[0;36mpandas._libs.index.IndexEngine.get_loc\u001b[1;34m()\u001b[0m\n",
      "\u001b[1;32mpandas\\_libs\\index_class_helper.pxi\u001b[0m in \u001b[0;36mpandas._libs.index.Int64Engine._check_type\u001b[1;34m()\u001b[0m\n",
      "\u001b[1;31mKeyError\u001b[0m: 'Champion?'",
      "\nThe above exception was the direct cause of the following exception:\n",
      "\u001b[1;31mKeyError\u001b[0m                                  Traceback (most recent call last)",
      "\u001b[1;32m<ipython-input-34-d4ff7507e8a3>\u001b[0m in \u001b[0;36m<module>\u001b[1;34m\u001b[0m\n\u001b[0;32m      5\u001b[0m     \u001b[0mplt\u001b[0m\u001b[1;33m.\u001b[0m\u001b[0msubplot\u001b[0m\u001b[1;33m(\u001b[0m\u001b[1;36m6\u001b[0m\u001b[1;33m,\u001b[0m \u001b[1;36m4\u001b[0m\u001b[1;33m,\u001b[0m \u001b[0mj\u001b[0m\u001b[1;33m+\u001b[0m\u001b[1;36m1\u001b[0m\u001b[1;33m)\u001b[0m\u001b[1;33m\u001b[0m\u001b[1;33m\u001b[0m\u001b[0m\n\u001b[0;32m      6\u001b[0m     \u001b[0mj\u001b[0m \u001b[1;33m+=\u001b[0m \u001b[1;36m1\u001b[0m\u001b[1;33m\u001b[0m\u001b[1;33m\u001b[0m\u001b[0m\n\u001b[1;32m----> 7\u001b[1;33m     \u001b[0msns\u001b[0m\u001b[1;33m.\u001b[0m\u001b[0mhistplot\u001b[0m\u001b[1;33m(\u001b[0m\u001b[0mfinal\u001b[0m\u001b[1;33m[\u001b[0m\u001b[0mi\u001b[0m\u001b[1;33m]\u001b[0m\u001b[1;33m[\u001b[0m\u001b[0mtarget\u001b[0m\u001b[1;33m[\u001b[0m\u001b[1;34m'Champion?'\u001b[0m\u001b[1;33m]\u001b[0m\u001b[1;33m==\u001b[0m\u001b[1;36m0\u001b[0m\u001b[1;33m]\u001b[0m\u001b[1;33m,\u001b[0m \u001b[0mcolor\u001b[0m\u001b[1;33m=\u001b[0m\u001b[1;34m'r'\u001b[0m\u001b[1;33m,\u001b[0m \u001b[0mlabel\u001b[0m \u001b[1;33m=\u001b[0m \u001b[1;34m'Lose'\u001b[0m\u001b[1;33m)\u001b[0m\u001b[1;33m\u001b[0m\u001b[1;33m\u001b[0m\u001b[0m\n\u001b[0m\u001b[0;32m      8\u001b[0m     \u001b[0msns\u001b[0m\u001b[1;33m.\u001b[0m\u001b[0mhistplot\u001b[0m\u001b[1;33m(\u001b[0m\u001b[0mfinal\u001b[0m\u001b[1;33m[\u001b[0m\u001b[0mi\u001b[0m\u001b[1;33m]\u001b[0m\u001b[1;33m[\u001b[0m\u001b[0mtarget\u001b[0m\u001b[1;33m[\u001b[0m\u001b[1;34m'Champion?'\u001b[0m\u001b[1;33m]\u001b[0m\u001b[1;33m==\u001b[0m\u001b[1;36m1\u001b[0m\u001b[1;33m]\u001b[0m\u001b[1;33m,\u001b[0m \u001b[0mcolor\u001b[0m\u001b[1;33m=\u001b[0m\u001b[1;34m'g'\u001b[0m\u001b[1;33m,\u001b[0m \u001b[0mlabel\u001b[0m \u001b[1;33m=\u001b[0m \u001b[1;34m'Win'\u001b[0m\u001b[1;33m)\u001b[0m\u001b[1;33m\u001b[0m\u001b[1;33m\u001b[0m\u001b[0m\n\u001b[0;32m      9\u001b[0m     \u001b[0mplt\u001b[0m\u001b[1;33m.\u001b[0m\u001b[0mlegend\u001b[0m\u001b[1;33m(\u001b[0m\u001b[0mloc\u001b[0m\u001b[1;33m=\u001b[0m\u001b[1;34m'best'\u001b[0m\u001b[1;33m)\u001b[0m\u001b[1;33m\u001b[0m\u001b[1;33m\u001b[0m\u001b[0m\n",
      "\u001b[1;32m~\\anaconda3\\lib\\site-packages\\pandas\\core\\series.py\u001b[0m in \u001b[0;36m__getitem__\u001b[1;34m(self, key)\u001b[0m\n\u001b[0;32m    851\u001b[0m \u001b[1;33m\u001b[0m\u001b[0m\n\u001b[0;32m    852\u001b[0m         \u001b[1;32melif\u001b[0m \u001b[0mkey_is_scalar\u001b[0m\u001b[1;33m:\u001b[0m\u001b[1;33m\u001b[0m\u001b[1;33m\u001b[0m\u001b[0m\n\u001b[1;32m--> 853\u001b[1;33m             \u001b[1;32mreturn\u001b[0m \u001b[0mself\u001b[0m\u001b[1;33m.\u001b[0m\u001b[0m_get_value\u001b[0m\u001b[1;33m(\u001b[0m\u001b[0mkey\u001b[0m\u001b[1;33m)\u001b[0m\u001b[1;33m\u001b[0m\u001b[1;33m\u001b[0m\u001b[0m\n\u001b[0m\u001b[0;32m    854\u001b[0m \u001b[1;33m\u001b[0m\u001b[0m\n\u001b[0;32m    855\u001b[0m         \u001b[1;32mif\u001b[0m \u001b[0mis_hashable\u001b[0m\u001b[1;33m(\u001b[0m\u001b[0mkey\u001b[0m\u001b[1;33m)\u001b[0m\u001b[1;33m:\u001b[0m\u001b[1;33m\u001b[0m\u001b[1;33m\u001b[0m\u001b[0m\n",
      "\u001b[1;32m~\\anaconda3\\lib\\site-packages\\pandas\\core\\series.py\u001b[0m in \u001b[0;36m_get_value\u001b[1;34m(self, label, takeable)\u001b[0m\n\u001b[0;32m    959\u001b[0m \u001b[1;33m\u001b[0m\u001b[0m\n\u001b[0;32m    960\u001b[0m         \u001b[1;31m# Similar to Index.get_value, but we do not fall back to positional\u001b[0m\u001b[1;33m\u001b[0m\u001b[1;33m\u001b[0m\u001b[1;33m\u001b[0m\u001b[0m\n\u001b[1;32m--> 961\u001b[1;33m         \u001b[0mloc\u001b[0m \u001b[1;33m=\u001b[0m \u001b[0mself\u001b[0m\u001b[1;33m.\u001b[0m\u001b[0mindex\u001b[0m\u001b[1;33m.\u001b[0m\u001b[0mget_loc\u001b[0m\u001b[1;33m(\u001b[0m\u001b[0mlabel\u001b[0m\u001b[1;33m)\u001b[0m\u001b[1;33m\u001b[0m\u001b[1;33m\u001b[0m\u001b[0m\n\u001b[0m\u001b[0;32m    962\u001b[0m         \u001b[1;32mreturn\u001b[0m \u001b[0mself\u001b[0m\u001b[1;33m.\u001b[0m\u001b[0mindex\u001b[0m\u001b[1;33m.\u001b[0m\u001b[0m_get_values_for_loc\u001b[0m\u001b[1;33m(\u001b[0m\u001b[0mself\u001b[0m\u001b[1;33m,\u001b[0m \u001b[0mloc\u001b[0m\u001b[1;33m,\u001b[0m \u001b[0mlabel\u001b[0m\u001b[1;33m)\u001b[0m\u001b[1;33m\u001b[0m\u001b[1;33m\u001b[0m\u001b[0m\n\u001b[0;32m    963\u001b[0m \u001b[1;33m\u001b[0m\u001b[0m\n",
      "\u001b[1;32m~\\anaconda3\\lib\\site-packages\\pandas\\core\\indexes\\base.py\u001b[0m in \u001b[0;36mget_loc\u001b[1;34m(self, key, method, tolerance)\u001b[0m\n\u001b[0;32m   3080\u001b[0m                 \u001b[1;32mreturn\u001b[0m \u001b[0mself\u001b[0m\u001b[1;33m.\u001b[0m\u001b[0m_engine\u001b[0m\u001b[1;33m.\u001b[0m\u001b[0mget_loc\u001b[0m\u001b[1;33m(\u001b[0m\u001b[0mcasted_key\u001b[0m\u001b[1;33m)\u001b[0m\u001b[1;33m\u001b[0m\u001b[1;33m\u001b[0m\u001b[0m\n\u001b[0;32m   3081\u001b[0m             \u001b[1;32mexcept\u001b[0m \u001b[0mKeyError\u001b[0m \u001b[1;32mas\u001b[0m \u001b[0merr\u001b[0m\u001b[1;33m:\u001b[0m\u001b[1;33m\u001b[0m\u001b[1;33m\u001b[0m\u001b[0m\n\u001b[1;32m-> 3082\u001b[1;33m                 \u001b[1;32mraise\u001b[0m \u001b[0mKeyError\u001b[0m\u001b[1;33m(\u001b[0m\u001b[0mkey\u001b[0m\u001b[1;33m)\u001b[0m \u001b[1;32mfrom\u001b[0m \u001b[0merr\u001b[0m\u001b[1;33m\u001b[0m\u001b[1;33m\u001b[0m\u001b[0m\n\u001b[0m\u001b[0;32m   3083\u001b[0m \u001b[1;33m\u001b[0m\u001b[0m\n\u001b[0;32m   3084\u001b[0m         \u001b[1;32mif\u001b[0m \u001b[0mtolerance\u001b[0m \u001b[1;32mis\u001b[0m \u001b[1;32mnot\u001b[0m \u001b[1;32mNone\u001b[0m\u001b[1;33m:\u001b[0m\u001b[1;33m\u001b[0m\u001b[1;33m\u001b[0m\u001b[0m\n",
      "\u001b[1;31mKeyError\u001b[0m: 'Champion?'"
     ]
    },
    {
     "data": {
      "image/png": "[encoded data removed]",
      "text/plain": [
       "<Figure size 1440x1800 with 1 Axes>"
      ]
     },
     "metadata": {
      "needs_background": "light"
     },
     "output_type": "display_data"
    }
   ],
   "source": [
    "## Plot distribution of dependent variable for each independent variable.\n",
    "fig = plt.figure(figsize = (20, 25))\n",
    "j = 0\n",
    "for i in final.columns:\n",
    "    plt.subplot(6, 4, j+1)\n",
    "    j += 1\n",
    "    sns.histplot(final[i][target['Champion?']==0], color='r', label = 'Lose')\n",
    "    sns.histplot(final[i][target['Champion?']==1], color='g', label = 'Win')\n",
    "    plt.legend(loc='best')\n",
    "fig.suptitle('NBA Analysis')\n",
    "fig.tight_layout()\n",
    "fig.subplots_adjust(top=0.95)\n",
    "plt.show()\n"
   ]
  },
  {
   "cell_type": "markdown",
   "id": "418acdb7-7d86-4a94-9963-3c8875855765",
   "metadata": {},
   "source": [
    "## Define Current Season Dataframes: ID and Independent Variables"
   ]
  },
  {
   "cell_type": "code",
   "execution_count": 54,
   "id": "a214ec3c-4cf7-4d73-b118-3e67273c16e2",
   "metadata": {},
   "outputs": [],
   "source": [
    "# We will have two dataframes of the current data\n",
    "# The first will be the ID dataframe so we are able to tie the output to the correct teams\n",
    "# The second will be the dataframe of independent variables still remaining after filtering out collinearity\n",
    "# I'm just listing out all the columns to keep for now, but I'm sure there's a way to reference the column names in final\n",
    "ID_2022 = nba22[['Season', 'Team']]\n",
    "X_2022 = nba22[[\"MIN\", \"PTS\", \"FGA\", \"3P%\", \"FTM\", \"FT%\", \"OREB\", \"DREB\", \"AST\", \"TOV\", \"STL\", \"BLKA\", \"PF\", \"Salary\"]]"
   ]
  },
  {
   "cell_type": "markdown",
   "id": "1a58f26b-c4b3-4837-8f0f-c27757bbc848",
   "metadata": {},
   "source": [
    "## Random Forest Regression"
   ]
  },
  {
   "cell_type": "code",
   "execution_count": 36,
   "id": "6610a301-06eb-4ef0-a8e3-235ddbc38ce0",
   "metadata": {},
   "outputs": [],
   "source": [
    "X = final\n",
    "y = target"
   ]
  },
  {
   "cell_type": "code",
   "execution_count": 37,
   "id": "7a3df70a-f6c1-4ed7-a848-b3d50a3ab5b9",
   "metadata": {},
   "outputs": [],
   "source": [
    "# Split dataset into training set and test set\n",
    "X_train, X_test, y_train, y_test = train_test_split(X, y, test_size=0.3) # 70% training and 30% test"
   ]
  },
  {
   "cell_type": "code",
   "execution_count": 38,
   "id": "b3c0ebf1-4304-4859-b784-4be402dd250a",
   "metadata": {},
   "outputs": [
    {
     "data": {
      "text/plain": [
       "False"
      ]
     },
     "execution_count": 38,
     "metadata": {},
     "output_type": "execute_result"
    }
   ],
   "source": [
    "y_train.isnull().any()"
   ]
  },
  {
   "cell_type": "code",
   "execution_count": 39,
   "id": "de9483a5-3e98-4007-b9cb-a56c790be02e",
   "metadata": {},
   "outputs": [
    {
     "name": "stdout",
     "output_type": "stream",
     "text": [
      "Accuracy: 0.9327354260089686\n"
     ]
    }
   ],
   "source": [
    "#Create a Gaussian Classifier\n",
    "clf = RandomForestClassifier(n_estimators=100)\n",
    "\n",
    "#Train the model using the training sets y_pred=clf.predict(X_test)\n",
    "clf.fit(X_train, y_train)\n",
    "\n",
    "y_pred = clf.predict(X_test)\n",
    "\n",
    "# Model Accuracy, how often is the classifier correct?\n",
    "print(\"Accuracy:\",metrics.accuracy_score(y_test, y_pred))"
   ]
  },
  {
   "cell_type": "code",
   "execution_count": 40,
   "id": "3ea01806-ec46-4cc9-b673-2149d3b4971f",
   "metadata": {},
   "outputs": [
    {
     "data": {
      "text/plain": [
       "array([[206,   0],\n",
       "       [ 15,   2]], dtype=int64)"
      ]
     },
     "execution_count": 40,
     "metadata": {},
     "output_type": "execute_result"
    }
   ],
   "source": [
    "# View confusion matrix for test data and predictions\n",
    "confusion_matrix(y_test, y_pred)"
   ]
  },
  {
   "cell_type": "code",
   "execution_count": 41,
   "id": "1b4ffb9b-3c79-4ce9-8a52-9451a4cee338",
   "metadata": {},
   "outputs": [
    {
     "name": "stdout",
     "output_type": "stream",
     "text": [
      "              precision    recall  f1-score   support\n",
      "\n",
      "           0       0.93      1.00      0.96       206\n",
      "           1       1.00      0.12      0.21        17\n",
      "\n",
      "    accuracy                           0.93       223\n",
      "   macro avg       0.97      0.56      0.59       223\n",
      "weighted avg       0.94      0.93      0.91       223\n",
      "\n"
     ]
    }
   ],
   "source": [
    "# View the classification report for test data and predictions\n",
    "print(classification_report(y_test, y_pred))"
   ]
  },
  {
   "cell_type": "code",
   "execution_count": 42,
   "id": "8719b0ac-1c82-4474-90b6-8274fdd4d21b",
   "metadata": {},
   "outputs": [
    {
     "data": {
      "image/png": "[encoded data removed]",
      "text/plain": [
       "<Figure size 1152x504 with 2 Axes>"
      ]
     },
     "metadata": {
      "needs_background": "light"
     },
     "output_type": "display_data"
    }
   ],
   "source": [
    "# Get and reshape confusion matrix data\n",
    "matrix = confusion_matrix(y_test, y_pred)\n",
    "matrix = matrix.astype('float') / matrix.sum(axis=1)[:, np.newaxis]\n",
    "\n",
    "# Build the plot\n",
    "plt.figure(figsize=(16,7))\n",
    "sns.set(font_scale=1.4)\n",
    "sns.heatmap(matrix, annot=True, annot_kws={'size':10},\n",
    "            cmap=plt.cm.Greens, linewidths=0.2)\n",
    "\n",
    "# Add labels to the plot\n",
    "class_names = ['Losers', 'Champions']\n",
    "tick_marks = np.arange(len(class_names))\n",
    "tick_marks2 = tick_marks + 0.5\n",
    "plt.xticks(tick_marks, class_names, rotation=25)\n",
    "plt.yticks(tick_marks2, class_names, rotation=0)\n",
    "plt.xlabel('Predicted label')\n",
    "plt.ylabel('True label')\n",
    "plt.title('Confusion Matrix for Random Forest Model')\n",
    "plt.show()"
   ]
  },
  {
   "cell_type": "markdown",
   "id": "c899421d-5362-4e90-9256-8fc3dd452052",
   "metadata": {},
   "source": [
    "## Logistic Regression"
   ]
  },
  {
   "cell_type": "code",
   "execution_count": 55,
   "id": "170ce815-f996-47f2-949e-4354a719b14f",
   "metadata": {},
   "outputs": [
    {
     "data": {
      "text/plain": [
       "False"
      ]
     },
     "execution_count": 55,
     "metadata": {},
     "output_type": "execute_result"
    }
   ],
   "source": [
    "X = final\n",
    "y = target\n",
    "# Split dataset into training set and test set\n",
    "X_train, X_test, y_train, y_test = train_test_split(X, y, test_size=0.3) # 70% training and 30% test\n",
    "y_train.isnull().any()"
   ]
  },
  {
   "cell_type": "code",
   "execution_count": 59,
   "id": "f634e5ff-3044-41af-8a98-6cf8707d1cad",
   "metadata": {},
   "outputs": [],
   "source": [
    "# Instantiate the model (using the default parameters)\n",
    "logreg = LogisticRegression()\n",
    "\n",
    "# Fit the model with data\n",
    "logreg.fit(X_train, y_train)\n",
    "\n",
    "# Predict on the test set\n",
    "y_predict = logreg.predict(X_test)"
   ]
  },
  {
   "cell_type": "code",
   "execution_count": 60,
   "id": "e79a7af2-3856-43cf-ad96-3a490d0d87f0",
   "metadata": {},
   "outputs": [
    {
     "data": {
      "text/plain": [
       "array([[208,   0],\n",
       "       [ 15,   0]], dtype=int64)"
      ]
     },
     "execution_count": 60,
     "metadata": {},
     "output_type": "execute_result"
    }
   ],
   "source": [
    "# Generate a confusion maxtrix to see the accuracy of the model\n",
    "conf_matrix = metrics.confusion_matrix(y_test, y_predict)\n",
    "conf_matrix"
   ]
  },
  {
   "cell_type": "code",
   "execution_count": 61,
   "id": "0049b814-9a33-4651-8a4b-a56d1cd86ff9",
   "metadata": {},
   "outputs": [
    {
     "name": "stdout",
     "output_type": "stream",
     "text": [
      "              precision    recall  f1-score   support\n",
      "\n",
      "           0       0.93      1.00      0.97       208\n",
      "           1       0.00      0.00      0.00        15\n",
      "\n",
      "    accuracy                           0.93       223\n",
      "   macro avg       0.47      0.50      0.48       223\n",
      "weighted avg       0.87      0.93      0.90       223\n",
      "\n"
     ]
    },
    {
     "name": "stderr",
     "output_type": "stream",
     "text": [
      "C:\\Users\\Karyna\\anaconda3\\lib\\site-packages\\sklearn\\metrics\\_classification.py:1245: UndefinedMetricWarning: Precision and F-score are ill-defined and being set to 0.0 in labels with no predicted samples. Use `zero_division` parameter to control this behavior.\n",
      "  _warn_prf(average, modifier, msg_start, len(result))\n",
      "C:\\Users\\Karyna\\anaconda3\\lib\\site-packages\\sklearn\\metrics\\_classification.py:1245: UndefinedMetricWarning: Precision and F-score are ill-defined and being set to 0.0 in labels with no predicted samples. Use `zero_division` parameter to control this behavior.\n",
      "  _warn_prf(average, modifier, msg_start, len(result))\n",
      "C:\\Users\\Karyna\\anaconda3\\lib\\site-packages\\sklearn\\metrics\\_classification.py:1245: UndefinedMetricWarning: Precision and F-score are ill-defined and being set to 0.0 in labels with no predicted samples. Use `zero_division` parameter to control this behavior.\n",
      "  _warn_prf(average, modifier, msg_start, len(result))\n"
     ]
    }
   ],
   "source": [
    "print(classification_report(y_test, y_predict))"
   ]
  },
  {
   "cell_type": "code",
   "execution_count": 62,
   "id": "043d470c-3b65-4fed-8d60-7bfa1ed69026",
   "metadata": {},
   "outputs": [
    {
     "name": "stdout",
     "output_type": "stream",
     "text": [
      "Accuracy: 0.9327354260089686\n"
     ]
    }
   ],
   "source": [
    "# Determine the accuracy of the model\n",
    "print(\"Accuracy:\", metrics.accuracy_score(y_test, y_predict))"
   ]
  },
  {
   "cell_type": "code",
   "execution_count": 65,
   "id": "49c678d2-b71e-4947-a377-c941c5903561",
   "metadata": {},
   "outputs": [
    {
     "data": {
      "image/png": "[encoded data removed]",
      "text/plain": [
       "<Figure size 1152x504 with 2 Axes>"
      ]
     },
     "metadata": {},
     "output_type": "display_data"
    }
   ],
   "source": [
    "# Reshape confusion matrix data\n",
    "conf_matrix = conf_matrix.astype('float') / conf_matrix.sum(axis=1)[:, np.newaxis]\n",
    "\n",
    "# Build the plot\n",
    "plt.figure(figsize=(16,7))\n",
    "sns.set(font_scale=1.4)\n",
    "sns.heatmap(conf_matrix, annot=True, annot_kws={'size':10},\n",
    "            cmap=plt.cm.Greens, linewidths=0.2)\n",
    "\n",
    "# Add labels to the plot\n",
    "class_names = ['Losers', 'Champions']\n",
    "tick_marks = np.arange(len(class_names))\n",
    "tick_marks2 = tick_marks + 0.5\n",
    "plt.xticks(tick_marks, class_names, rotation=25)\n",
    "plt.yticks(tick_marks2, class_names, rotation=0)\n",
    "plt.xlabel('Predicted label')\n",
    "plt.ylabel('True label')\n",
    "plt.title('Confusion Matrix for Logistic Regression Model')\n",
    "plt.show()"
   ]
  },
  {
   "cell_type": "code",
   "execution_count": 63,
   "id": "69a2635d-0d0f-4d34-8466-2f0d895eee58",
   "metadata": {},
   "outputs": [
    {
     "data": {
      "text/html": [
       "<div>\n",
       "<style scoped>\n",
       "    .dataframe tbody tr th:only-of-type {\n",
       "        vertical-align: middle;\n",
       "    }\n",
       "\n",
       "    .dataframe tbody tr th {\n",
       "        vertical-align: top;\n",
       "    }\n",
       "\n",
       "    .dataframe thead th {\n",
       "        text-align: right;\n",
       "    }\n",
       "</style>\n",
       "<table border=\"1\" class=\"dataframe\">\n",
       "  <thead>\n",
       "    <tr style=\"text-align: right;\">\n",
       "      <th></th>\n",
       "      <th>Season</th>\n",
       "      <th>Team</th>\n",
       "      <th>Prob of 0</th>\n",
       "      <th>Prob of 1</th>\n",
       "    </tr>\n",
       "  </thead>\n",
       "  <tbody>\n",
       "    <tr>\n",
       "      <th>20</th>\n",
       "      <td>2022</td>\n",
       "      <td>Oklahoma City Thunder</td>\n",
       "      <td>0.947843</td>\n",
       "      <td>0.052157</td>\n",
       "    </tr>\n",
       "    <tr>\n",
       "      <th>14</th>\n",
       "      <td>2022</td>\n",
       "      <td>Memphis Grizzlies</td>\n",
       "      <td>0.985458</td>\n",
       "      <td>0.014542</td>\n",
       "    </tr>\n",
       "    <tr>\n",
       "      <th>18</th>\n",
       "      <td>2022</td>\n",
       "      <td>New Orleans Pelicans</td>\n",
       "      <td>0.985891</td>\n",
       "      <td>0.014109</td>\n",
       "    </tr>\n",
       "    <tr>\n",
       "      <th>3</th>\n",
       "      <td>2022</td>\n",
       "      <td>Charlotte Hornets</td>\n",
       "      <td>0.986864</td>\n",
       "      <td>0.013136</td>\n",
       "    </tr>\n",
       "    <tr>\n",
       "      <th>26</th>\n",
       "      <td>2022</td>\n",
       "      <td>San Antonio Spurs</td>\n",
       "      <td>0.987354</td>\n",
       "      <td>0.012646</td>\n",
       "    </tr>\n",
       "    <tr>\n",
       "      <th>19</th>\n",
       "      <td>2022</td>\n",
       "      <td>New York Knicks</td>\n",
       "      <td>0.987878</td>\n",
       "      <td>0.012122</td>\n",
       "    </tr>\n",
       "    <tr>\n",
       "      <th>6</th>\n",
       "      <td>2022</td>\n",
       "      <td>Dallas Mavericks</td>\n",
       "      <td>0.988295</td>\n",
       "      <td>0.011705</td>\n",
       "    </tr>\n",
       "    <tr>\n",
       "      <th>21</th>\n",
       "      <td>2022</td>\n",
       "      <td>Orlando Magic</td>\n",
       "      <td>0.988543</td>\n",
       "      <td>0.011457</td>\n",
       "    </tr>\n",
       "    <tr>\n",
       "      <th>8</th>\n",
       "      <td>2022</td>\n",
       "      <td>Detroit Pistons</td>\n",
       "      <td>0.990359</td>\n",
       "      <td>0.009641</td>\n",
       "    </tr>\n",
       "    <tr>\n",
       "      <th>10</th>\n",
       "      <td>2022</td>\n",
       "      <td>Houston Rockets</td>\n",
       "      <td>0.990858</td>\n",
       "      <td>0.009142</td>\n",
       "    </tr>\n",
       "    <tr>\n",
       "      <th>23</th>\n",
       "      <td>2022</td>\n",
       "      <td>Phoenix Suns</td>\n",
       "      <td>0.991639</td>\n",
       "      <td>0.008361</td>\n",
       "    </tr>\n",
       "    <tr>\n",
       "      <th>25</th>\n",
       "      <td>2022</td>\n",
       "      <td>Sacramento Kings</td>\n",
       "      <td>0.991937</td>\n",
       "      <td>0.008063</td>\n",
       "    </tr>\n",
       "    <tr>\n",
       "      <th>4</th>\n",
       "      <td>2022</td>\n",
       "      <td>Chicago Bulls</td>\n",
       "      <td>0.992824</td>\n",
       "      <td>0.007176</td>\n",
       "    </tr>\n",
       "    <tr>\n",
       "      <th>11</th>\n",
       "      <td>2022</td>\n",
       "      <td>Indiana Pacers</td>\n",
       "      <td>0.992989</td>\n",
       "      <td>0.007011</td>\n",
       "    </tr>\n",
       "    <tr>\n",
       "      <th>5</th>\n",
       "      <td>2022</td>\n",
       "      <td>Cleveland Cavaliers</td>\n",
       "      <td>0.993018</td>\n",
       "      <td>0.006982</td>\n",
       "    </tr>\n",
       "    <tr>\n",
       "      <th>29</th>\n",
       "      <td>2022</td>\n",
       "      <td>Washington Wizards</td>\n",
       "      <td>0.993228</td>\n",
       "      <td>0.006772</td>\n",
       "    </tr>\n",
       "    <tr>\n",
       "      <th>7</th>\n",
       "      <td>2022</td>\n",
       "      <td>Denver Nuggets</td>\n",
       "      <td>0.993322</td>\n",
       "      <td>0.006678</td>\n",
       "    </tr>\n",
       "    <tr>\n",
       "      <th>0</th>\n",
       "      <td>2022</td>\n",
       "      <td>Atlanta Hawks</td>\n",
       "      <td>0.993367</td>\n",
       "      <td>0.006633</td>\n",
       "    </tr>\n",
       "    <tr>\n",
       "      <th>17</th>\n",
       "      <td>2022</td>\n",
       "      <td>Minnesota Timberwolves</td>\n",
       "      <td>0.993381</td>\n",
       "      <td>0.006619</td>\n",
       "    </tr>\n",
       "    <tr>\n",
       "      <th>27</th>\n",
       "      <td>2022</td>\n",
       "      <td>Toronto Raptors</td>\n",
       "      <td>0.993527</td>\n",
       "      <td>0.006473</td>\n",
       "    </tr>\n",
       "    <tr>\n",
       "      <th>15</th>\n",
       "      <td>2022</td>\n",
       "      <td>Miami Heat</td>\n",
       "      <td>0.994250</td>\n",
       "      <td>0.005750</td>\n",
       "    </tr>\n",
       "    <tr>\n",
       "      <th>24</th>\n",
       "      <td>2022</td>\n",
       "      <td>Portland Trail Blazers</td>\n",
       "      <td>0.994702</td>\n",
       "      <td>0.005298</td>\n",
       "    </tr>\n",
       "    <tr>\n",
       "      <th>1</th>\n",
       "      <td>2022</td>\n",
       "      <td>Boston Celtics</td>\n",
       "      <td>0.994747</td>\n",
       "      <td>0.005253</td>\n",
       "    </tr>\n",
       "    <tr>\n",
       "      <th>22</th>\n",
       "      <td>2022</td>\n",
       "      <td>Philadelphia 76ers</td>\n",
       "      <td>0.995034</td>\n",
       "      <td>0.004966</td>\n",
       "    </tr>\n",
       "    <tr>\n",
       "      <th>28</th>\n",
       "      <td>2022</td>\n",
       "      <td>Utah Jazz</td>\n",
       "      <td>0.996504</td>\n",
       "      <td>0.003496</td>\n",
       "    </tr>\n",
       "    <tr>\n",
       "      <th>16</th>\n",
       "      <td>2022</td>\n",
       "      <td>Milwaukee Bucks</td>\n",
       "      <td>0.996860</td>\n",
       "      <td>0.003140</td>\n",
       "    </tr>\n",
       "    <tr>\n",
       "      <th>13</th>\n",
       "      <td>2022</td>\n",
       "      <td>Los Angeles Lakers</td>\n",
       "      <td>0.997625</td>\n",
       "      <td>0.002375</td>\n",
       "    </tr>\n",
       "    <tr>\n",
       "      <th>12</th>\n",
       "      <td>2022</td>\n",
       "      <td>Los Angeles Clippers</td>\n",
       "      <td>0.997953</td>\n",
       "      <td>0.002047</td>\n",
       "    </tr>\n",
       "    <tr>\n",
       "      <th>2</th>\n",
       "      <td>2022</td>\n",
       "      <td>Brooklyn Nets</td>\n",
       "      <td>0.998387</td>\n",
       "      <td>0.001613</td>\n",
       "    </tr>\n",
       "    <tr>\n",
       "      <th>9</th>\n",
       "      <td>2022</td>\n",
       "      <td>Golden State Warriors</td>\n",
       "      <td>0.998583</td>\n",
       "      <td>0.001417</td>\n",
       "    </tr>\n",
       "  </tbody>\n",
       "</table>\n",
       "</div>"
      ],
      "text/plain": [
       "   Season                    Team  Prob of 0  Prob of 1\n",
       "20   2022   Oklahoma City Thunder   0.947843   0.052157\n",
       "14   2022       Memphis Grizzlies   0.985458   0.014542\n",
       "18   2022    New Orleans Pelicans   0.985891   0.014109\n",
       "3    2022       Charlotte Hornets   0.986864   0.013136\n",
       "26   2022       San Antonio Spurs   0.987354   0.012646\n",
       "19   2022         New York Knicks   0.987878   0.012122\n",
       "6    2022        Dallas Mavericks   0.988295   0.011705\n",
       "21   2022           Orlando Magic   0.988543   0.011457\n",
       "8    2022         Detroit Pistons   0.990359   0.009641\n",
       "10   2022         Houston Rockets   0.990858   0.009142\n",
       "23   2022            Phoenix Suns   0.991639   0.008361\n",
       "25   2022        Sacramento Kings   0.991937   0.008063\n",
       "4    2022           Chicago Bulls   0.992824   0.007176\n",
       "11   2022          Indiana Pacers   0.992989   0.007011\n",
       "5    2022     Cleveland Cavaliers   0.993018   0.006982\n",
       "29   2022      Washington Wizards   0.993228   0.006772\n",
       "7    2022          Denver Nuggets   0.993322   0.006678\n",
       "0    2022           Atlanta Hawks   0.993367   0.006633\n",
       "17   2022  Minnesota Timberwolves   0.993381   0.006619\n",
       "27   2022         Toronto Raptors   0.993527   0.006473\n",
       "15   2022              Miami Heat   0.994250   0.005750\n",
       "24   2022  Portland Trail Blazers   0.994702   0.005298\n",
       "1    2022          Boston Celtics   0.994747   0.005253\n",
       "22   2022      Philadelphia 76ers   0.995034   0.004966\n",
       "28   2022               Utah Jazz   0.996504   0.003496\n",
       "16   2022         Milwaukee Bucks   0.996860   0.003140\n",
       "13   2022      Los Angeles Lakers   0.997625   0.002375\n",
       "12   2022    Los Angeles Clippers   0.997953   0.002047\n",
       "2    2022           Brooklyn Nets   0.998387   0.001613\n",
       "9    2022   Golden State Warriors   0.998583   0.001417"
      ]
     },
     "execution_count": 63,
     "metadata": {},
     "output_type": "execute_result"
    }
   ],
   "source": [
    "pred_2022 = logreg.predict_proba(X_2022)\n",
    "pred_2022_df = pd.DataFrame(pred_2022, columns = ['Prob of 0', 'Prob of 1'])\n",
    "ID_2022 = ID_2022.reset_index(drop = True)\n",
    "final_pred_2022 = ID_2022.join(pred_2022_df)\n",
    "final_pred_2022.sort_values(by=['Prob of 1'], ascending = False)"
   ]
  }
 ],
 "metadata": {
  "kernelspec": {
   "display_name": "Python 3",
   "language": "python",
   "name": "python3"
  },
  "language_info": {
   "codemirror_mode": {
    "name": "ipython",
    "version": 3
   },
   "file_extension": ".py",
   "mimetype": "text/x-python",
   "name": "python",
   "nbconvert_exporter": "python",
   "pygments_lexer": "ipython3",
   "version": "3.8.8"
  },
  "toc-autonumbering": true,
  "toc-showcode": true
 },
 "nbformat": 4,
 "nbformat_minor": 5
}
